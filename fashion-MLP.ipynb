{
 "cells": [
  {
   "cell_type": "code",
   "execution_count": 1,
   "metadata": {
    "colab": {
     "base_uri": "https://localhost:8080/"
    },
    "executionInfo": {
     "elapsed": 3686,
     "status": "ok",
     "timestamp": 1605140479223,
     "user": {
      "displayName": "Noah Giansiracusa",
      "photoUrl": "https://lh3.googleusercontent.com/a-/AOh14GjWwcC1kJJ_Pz6uX7qs91yTWwo5k-DIR0nv0ZxV5g=s64",
      "userId": "12071500791083746324"
     },
     "user_tz": 300
    },
    "id": "XBdL9ewAgyVH",
    "outputId": "f11996cc-727c-431b-91bf-ad6533d7199b"
   },
   "outputs": [
    {
     "name": "stdout",
     "output_type": "stream",
     "text": [
      "Downloading data from https://storage.googleapis.com/tensorflow/tf-keras-datasets/train-labels-idx1-ubyte.gz\n",
      "32768/29515 [=================================] - 0s 0us/step\n",
      "Downloading data from https://storage.googleapis.com/tensorflow/tf-keras-datasets/train-images-idx3-ubyte.gz\n",
      "26427392/26421880 [==============================] - 0s 0us/step\n",
      "Downloading data from https://storage.googleapis.com/tensorflow/tf-keras-datasets/t10k-labels-idx1-ubyte.gz\n",
      "8192/5148 [===============================================] - 0s 0us/step\n",
      "Downloading data from https://storage.googleapis.com/tensorflow/tf-keras-datasets/t10k-images-idx3-ubyte.gz\n",
      "4423680/4422102 [==============================] - 0s 0us/step\n"
     ]
    }
   ],
   "source": [
    "import tensorflow as tf\n",
    "from tensorflow import keras\n",
    "fashion_mnist = keras.datasets.fashion_mnist\n",
    "(X_train, y_train), (X_test, y_test) = fashion_mnist.load_data()\n",
    "X_train = X_train / 255.0\n",
    "X_test = X_test / 255.0\n",
    "class_names = [\"T-shirt/top\", \"Trouser\", \"Pullover\", \"Dress\", \"Coat\",\n",
    "                   \"Sandal\", \"Shirt\", \"Sneaker\", \"Bag\", \"Ankle boot\"]"
   ]
  },
  {
   "cell_type": "code",
   "execution_count": 2,
   "metadata": {
    "colab": {
     "base_uri": "https://localhost:8080/"
    },
    "executionInfo": {
     "elapsed": 672,
     "status": "ok",
     "timestamp": 1605140632704,
     "user": {
      "displayName": "Noah Giansiracusa",
      "photoUrl": "https://lh3.googleusercontent.com/a-/AOh14GjWwcC1kJJ_Pz6uX7qs91yTWwo5k-DIR0nv0ZxV5g=s64",
      "userId": "12071500791083746324"
     },
     "user_tz": 300
    },
    "id": "ay1yG_MPiZEa",
    "outputId": "7e0fc3d9-03d2-428f-c371-21ce0a1a7bf4"
   },
   "outputs": [
    {
     "name": "stdout",
     "output_type": "stream",
     "text": [
      "Model: \"sequential\"\n",
      "_________________________________________________________________\n",
      "Layer (type)                 Output Shape              Param #   \n",
      "=================================================================\n",
      "flatten (Flatten)            (None, 784)               0         \n",
      "_________________________________________________________________\n",
      "dense (Dense)                (None, 300)               235500    \n",
      "_________________________________________________________________\n",
      "dense_1 (Dense)              (None, 100)               30100     \n",
      "_________________________________________________________________\n",
      "dense_2 (Dense)              (None, 10)                1010      \n",
      "=================================================================\n",
      "Total params: 266,610\n",
      "Trainable params: 266,610\n",
      "Non-trainable params: 0\n",
      "_________________________________________________________________\n",
      "None\n"
     ]
    }
   ],
   "source": [
    "model = keras.models.Sequential()\n",
    "model.add(keras.layers.Flatten(input_shape=[28, 28]))\n",
    "model.add(keras.layers.Dense(300, activation=\"relu\"))\n",
    "model.add(keras.layers.Dense(100, activation=\"relu\"))\n",
    "model.add(keras.layers.Dense(10, activation=\"softmax\"))\n",
    "print(model.summary())\n",
    "model.compile(loss=\"sparse_categorical_crossentropy\", optimizer=\"sgd\", metrics=[\"accuracy\"])"
   ]
  },
  {
   "cell_type": "code",
   "execution_count": 3,
   "metadata": {
    "colab": {
     "base_uri": "https://localhost:8080/"
    },
    "executionInfo": {
     "elapsed": 104521,
     "status": "ok",
     "timestamp": 1605140805326,
     "user": {
      "displayName": "Noah Giansiracusa",
      "photoUrl": "https://lh3.googleusercontent.com/a-/AOh14GjWwcC1kJJ_Pz6uX7qs91yTWwo5k-DIR0nv0ZxV5g=s64",
      "userId": "12071500791083746324"
     },
     "user_tz": 300
    },
    "id": "utTdoIZTjdd5",
    "outputId": "fac6dc33-ea1f-476a-ba6b-eb94aae965b1"
   },
   "outputs": [
    {
     "name": "stdout",
     "output_type": "stream",
     "text": [
      "Epoch 1/20\n",
      "1688/1688 [==============================] - 5s 3ms/step - loss: 0.7311 - accuracy: 0.7623 - val_loss: 0.5256 - val_accuracy: 0.8250\n",
      "Epoch 2/20\n",
      "1688/1688 [==============================] - 5s 3ms/step - loss: 0.4881 - accuracy: 0.8316 - val_loss: 0.4642 - val_accuracy: 0.8308\n",
      "Epoch 3/20\n",
      "1688/1688 [==============================] - 5s 3ms/step - loss: 0.4431 - accuracy: 0.8462 - val_loss: 0.4261 - val_accuracy: 0.8463\n",
      "Epoch 4/20\n",
      "1688/1688 [==============================] - 5s 3ms/step - loss: 0.4169 - accuracy: 0.8545 - val_loss: 0.4211 - val_accuracy: 0.8493\n",
      "Epoch 5/20\n",
      "1688/1688 [==============================] - 6s 4ms/step - loss: 0.3968 - accuracy: 0.8612 - val_loss: 0.4284 - val_accuracy: 0.8443\n",
      "Epoch 6/20\n",
      "1688/1688 [==============================] - 6s 3ms/step - loss: 0.3812 - accuracy: 0.8656 - val_loss: 0.4004 - val_accuracy: 0.8627\n",
      "Epoch 7/20\n",
      "1688/1688 [==============================] - 5s 3ms/step - loss: 0.3660 - accuracy: 0.8716 - val_loss: 0.3766 - val_accuracy: 0.8678\n",
      "Epoch 8/20\n",
      "1688/1688 [==============================] - 5s 3ms/step - loss: 0.3540 - accuracy: 0.8740 - val_loss: 0.3689 - val_accuracy: 0.8650\n",
      "Epoch 9/20\n",
      "1688/1688 [==============================] - 5s 3ms/step - loss: 0.3437 - accuracy: 0.8786 - val_loss: 0.3637 - val_accuracy: 0.8683\n",
      "Epoch 10/20\n",
      "1688/1688 [==============================] - 5s 3ms/step - loss: 0.3340 - accuracy: 0.8816 - val_loss: 0.3730 - val_accuracy: 0.8632\n",
      "Epoch 11/20\n",
      "1688/1688 [==============================] - 5s 3ms/step - loss: 0.3259 - accuracy: 0.8842 - val_loss: 0.3652 - val_accuracy: 0.8685\n",
      "Epoch 12/20\n",
      "1688/1688 [==============================] - 5s 3ms/step - loss: 0.3179 - accuracy: 0.8880 - val_loss: 0.3511 - val_accuracy: 0.8750\n",
      "Epoch 13/20\n",
      "1688/1688 [==============================] - 5s 3ms/step - loss: 0.3103 - accuracy: 0.8896 - val_loss: 0.3376 - val_accuracy: 0.8780\n",
      "Epoch 14/20\n",
      "1688/1688 [==============================] - 5s 3ms/step - loss: 0.3028 - accuracy: 0.8916 - val_loss: 0.3464 - val_accuracy: 0.8745\n",
      "Epoch 15/20\n",
      "1688/1688 [==============================] - 5s 3ms/step - loss: 0.2978 - accuracy: 0.8938 - val_loss: 0.3442 - val_accuracy: 0.8770\n",
      "Epoch 16/20\n",
      "1688/1688 [==============================] - 5s 3ms/step - loss: 0.2910 - accuracy: 0.8966 - val_loss: 0.3321 - val_accuracy: 0.8797\n",
      "Epoch 17/20\n",
      "1688/1688 [==============================] - 5s 3ms/step - loss: 0.2856 - accuracy: 0.8974 - val_loss: 0.3509 - val_accuracy: 0.8737\n",
      "Epoch 18/20\n",
      "1688/1688 [==============================] - 5s 3ms/step - loss: 0.2798 - accuracy: 0.8993 - val_loss: 0.3252 - val_accuracy: 0.8855\n",
      "Epoch 19/20\n",
      "1688/1688 [==============================] - 5s 3ms/step - loss: 0.2740 - accuracy: 0.9027 - val_loss: 0.3607 - val_accuracy: 0.8695\n",
      "Epoch 20/20\n",
      "1688/1688 [==============================] - 5s 3ms/step - loss: 0.2695 - accuracy: 0.9030 - val_loss: 0.3510 - val_accuracy: 0.8772\n"
     ]
    }
   ],
   "source": [
    "history = model.fit(X_train, y_train, epochs=20, validation_split=0.1)"
   ]
  },
  {
   "cell_type": "code",
   "execution_count": null,
   "metadata": {
    "colab": {
     "base_uri": "https://localhost:8080/",
     "height": 337
    },
    "executionInfo": {
     "elapsed": 80557,
     "status": "ok",
     "timestamp": 1604870722359,
     "user": {
      "displayName": "Noah Giansiracusa",
      "photoUrl": "https://lh3.googleusercontent.com/a-/AOh14GjWwcC1kJJ_Pz6uX7qs91yTWwo5k-DIR0nv0ZxV5g=s64",
      "userId": "12071500791083746324"
     },
     "user_tz": 300
    },
    "id": "8kCkMuevj3q-",
    "outputId": "d4cb72d3-9a02-465d-f96f-b423c9a726fe"
   },
   "outputs": [
    {
     "data": {
      "text/plain": [
       "<matplotlib.axes._subplots.AxesSubplot at 0x7fd233f181d0>"
      ]
     },
     "execution_count": 36,
     "metadata": {
      "tags": []
     },
     "output_type": "execute_result"
    },
    {
     "data": {
      "image/png": "[encoded data removed]",
      "text/plain": [
       "<Figure size 576x360 with 1 Axes>"
      ]
     },
     "metadata": {
      "needs_background": "light",
      "tags": []
     },
     "output_type": "display_data"
    }
   ],
   "source": [
    "import numpy as np\n",
    "import pandas as pd\n",
    "import matplotlib.pyplot as plt\n",
    "pd.DataFrame(history.history).plot(figsize=(8, 5))"
   ]
  },
  {
   "cell_type": "code",
   "execution_count": null,
   "metadata": {
    "colab": {
     "base_uri": "https://localhost:8080/"
    },
    "executionInfo": {
     "elapsed": 81059,
     "status": "ok",
     "timestamp": 1604870722873,
     "user": {
      "displayName": "Noah Giansiracusa",
      "photoUrl": "https://lh3.googleusercontent.com/a-/AOh14GjWwcC1kJJ_Pz6uX7qs91yTWwo5k-DIR0nv0ZxV5g=s64",
      "userId": "12071500791083746324"
     },
     "user_tz": 300
    },
    "id": "cbF__K0PkU6S",
    "outputId": "b027ad1b-cadd-447f-db85-dc0335a46b49"
   },
   "outputs": [
    {
     "name": "stdout",
     "output_type": "stream",
     "text": [
      "313/313 [==============================] - 0s 1ms/step - loss: 0.3498 - accuracy: 0.8766\n"
     ]
    },
    {
     "data": {
      "text/plain": [
       "[0.34982678294181824, 0.8766000270843506]"
      ]
     },
     "execution_count": 37,
     "metadata": {
      "tags": []
     },
     "output_type": "execute_result"
    }
   ],
   "source": [
    "model.evaluate(X_test, y_test)"
   ]
  },
  {
   "cell_type": "code",
   "execution_count": null,
   "metadata": {
    "colab": {
     "base_uri": "https://localhost:8080/",
     "height": 282
    },
    "executionInfo": {
     "elapsed": 81263,
     "status": "ok",
     "timestamp": 1604870723080,
     "user": {
      "displayName": "Noah Giansiracusa",
      "photoUrl": "https://lh3.googleusercontent.com/a-/AOh14GjWwcC1kJJ_Pz6uX7qs91yTWwo5k-DIR0nv0ZxV5g=s64",
      "userId": "12071500791083746324"
     },
     "user_tz": 300
    },
    "id": "qJrvcCawkeAA",
    "outputId": "88cad74d-5c4c-4a12-c813-012d35c4c42c"
   },
   "outputs": [
    {
     "data": {
      "text/plain": [
       "<matplotlib.image.AxesImage at 0x7fd232e05da0>"
      ]
     },
     "execution_count": 38,
     "metadata": {
      "tags": []
     },
     "output_type": "execute_result"
    },
    {
     "data": {
      "image/png": "[encoded data removed]",
      "text/plain": [
       "<Figure size 432x288 with 1 Axes>"
      ]
     },
     "metadata": {
      "needs_background": "light",
      "tags": []
     },
     "output_type": "display_data"
    }
   ],
   "source": [
    "import random\n",
    "img = X_test[random.randint(0,9999),:,:]\n",
    "plt.imshow(img)"
   ]
  },
  {
   "cell_type": "code",
   "execution_count": null,
   "metadata": {
    "colab": {
     "base_uri": "https://localhost:8080/"
    },
    "executionInfo": {
     "elapsed": 81548,
     "status": "ok",
     "timestamp": 1604870723367,
     "user": {
      "displayName": "Noah Giansiracusa",
      "photoUrl": "https://lh3.googleusercontent.com/a-/AOh14GjWwcC1kJJ_Pz6uX7qs91yTWwo5k-DIR0nv0ZxV5g=s64",
      "userId": "12071500791083746324"
     },
     "user_tz": 300
    },
    "id": "UC8zwvgwlSpc",
    "outputId": "33595523-56c6-4bcf-af14-ce0b5fa4a047"
   },
   "outputs": [
    {
     "data": {
      "text/plain": [
       "array([[1., 0., 0., 0., 0., 0., 0., 0., 0., 0.]], dtype=float32)"
      ]
     },
     "execution_count": 39,
     "metadata": {
      "tags": []
     },
     "output_type": "execute_result"
    }
   ],
   "source": [
    "X_new = np.expand_dims(img, axis=0)\n",
    "model.predict(X_new).round(2)"
   ]
  },
  {
   "cell_type": "code",
   "execution_count": null,
   "metadata": {
    "colab": {
     "base_uri": "https://localhost:8080/",
     "height": 35
    },
    "executionInfo": {
     "elapsed": 81548,
     "status": "ok",
     "timestamp": 1604870723370,
     "user": {
      "displayName": "Noah Giansiracusa",
      "photoUrl": "https://lh3.googleusercontent.com/a-/AOh14GjWwcC1kJJ_Pz6uX7qs91yTWwo5k-DIR0nv0ZxV5g=s64",
      "userId": "12071500791083746324"
     },
     "user_tz": 300
    },
    "id": "v4FeWavelvGl",
    "outputId": "e1bae3c4-6de0-436e-bd22-99e1bb67b5ff"
   },
   "outputs": [
    {
     "data": {
      "application/vnd.google.colaboratory.intrinsic+json": {
       "type": "string"
      },
      "text/plain": [
       "'T-shirt/top'"
      ]
     },
     "execution_count": 40,
     "metadata": {
      "tags": []
     },
     "output_type": "execute_result"
    }
   ],
   "source": [
    "y_pred = model.predict_classes(X_new)\n",
    "class_names[int(y_pred)]"
   ]
  },
  {
   "cell_type": "code",
   "execution_count": null,
   "metadata": {
    "id": "L9anGkeev_GE"
   },
   "outputs": [],
   "source": [
    "#model.save(\"fashion-MLP.h5\")\n",
    "#model = keras.models.load_model(\"fashion-MLP.h5\")\n",
    "#ls\n",
    "#rm fashion-MLP.h5"
   ]
  }
 ],
 "metadata": {
  "colab": {
   "authorship_tag": "ABX9TyMtED7EdO2L6dWxXHGtS9E7",
   "collapsed_sections": [],
   "name": "fashion-MLP.ipynb",
   "provenance": []
  },
  "kernelspec": {
   "display_name": "Python 3",
   "language": "python",
   "name": "python3"
  },
  "language_info": {
   "codemirror_mode": {
    "name": "ipython",
    "version": 3
   },
   "file_extension": ".py",
   "mimetype": "text/x-python",
   "name": "python",
   "nbconvert_exporter": "python",
   "pygments_lexer": "ipython3",
   "version": "3.8.3"
  }
 },
 "nbformat": 4,
 "nbformat_minor": 4
}
