{
 "cells": [
  {
   "cell_type": "code",
   "execution_count": 25,
   "metadata": {
    "executionInfo": {
     "elapsed": 911,
     "status": "ok",
     "timestamp": 1604872531668,
     "user": {
      "displayName": "Noah Giansiracusa",
      "photoUrl": "https://lh3.googleusercontent.com/a-/AOh14GjWwcC1kJJ_Pz6uX7qs91yTWwo5k-DIR0nv0ZxV5g=s64",
      "userId": "12071500791083746324"
     },
     "user_tz": 300
    },
    "id": "XBdL9ewAgyVH"
   },
   "outputs": [],
   "source": [
    "import tensorflow as tf\n",
    "from tensorflow import keras\n",
    "fashion_mnist = keras.datasets.fashion_mnist\n",
    "(X_train, y_train), (X_test, y_test) = fashion_mnist.load_data()\n",
    "X_train = (X_train / 255.0).reshape(60000, 28, 28, 1)\n",
    "X_test = (X_test / 255.0).reshape(10000, 28, 28, 1)\n",
    "class_names = [\"T-shirt/top\", \"Trouser\", \"Pullover\", \"Dress\", \"Coat\",\n",
    "                   \"Sandal\", \"Shirt\", \"Sneaker\", \"Bag\", \"Ankle boot\"]"
   ]
  },
  {
   "cell_type": "code",
   "execution_count": 30,
   "metadata": {
    "colab": {
     "base_uri": "https://localhost:8080/"
    },
    "executionInfo": {
     "elapsed": 479,
     "status": "ok",
     "timestamp": 1604872611460,
     "user": {
      "displayName": "Noah Giansiracusa",
      "photoUrl": "https://lh3.googleusercontent.com/a-/AOh14GjWwcC1kJJ_Pz6uX7qs91yTWwo5k-DIR0nv0ZxV5g=s64",
      "userId": "12071500791083746324"
     },
     "user_tz": 300
    },
    "id": "ay1yG_MPiZEa",
    "outputId": "7c42b551-a625-4ec5-f985-5e6e85e3d3bf"
   },
   "outputs": [
    {
     "name": "stdout",
     "output_type": "stream",
     "text": [
      "Model: \"sequential_20\"\n",
      "_________________________________________________________________\n",
      "Layer (type)                 Output Shape              Param #   \n",
      "=================================================================\n",
      "conv2d_31 (Conv2D)           (None, 28, 28, 16)        416       \n",
      "_________________________________________________________________\n",
      "max_pooling2d_24 (MaxPooling (None, 14, 14, 16)        0         \n",
      "_________________________________________________________________\n",
      "conv2d_32 (Conv2D)           (None, 14, 14, 16)        2320      \n",
      "_________________________________________________________________\n",
      "max_pooling2d_25 (MaxPooling (None, 7, 7, 16)          0         \n",
      "_________________________________________________________________\n",
      "flatten_10 (Flatten)         (None, 784)               0         \n",
      "_________________________________________________________________\n",
      "dense_31 (Dense)             (None, 50)                39250     \n",
      "_________________________________________________________________\n",
      "dropout_9 (Dropout)          (None, 50)                0         \n",
      "_________________________________________________________________\n",
      "dense_32 (Dense)             (None, 10)                510       \n",
      "=================================================================\n",
      "Total params: 42,496\n",
      "Trainable params: 42,496\n",
      "Non-trainable params: 0\n",
      "_________________________________________________________________\n",
      "None\n"
     ]
    }
   ],
   "source": [
    "model = keras.models.Sequential()\n",
    "model.add(keras.layers.Conv2D(filters=16, kernel_size=5, strides=1, padding=\"same\", activation=\"relu\",input_shape=[28, 28, 1]))\n",
    "model.add(keras.layers.MaxPool2D(pool_size=2))\n",
    "model.add(keras.layers.Conv2D(filters=16, kernel_size=3, strides=1, padding=\"same\", activation=\"relu\"))\n",
    "model.add(keras.layers.MaxPool2D(pool_size=2))\n",
    "model.add(keras.layers.Flatten())\n",
    "model.add(keras.layers.Dense(50, activation=\"relu\"))\n",
    "model.add(keras.layers.Dropout(0.5))\n",
    "model.add(keras.layers.Dense(10, activation=\"softmax\"))\n",
    "model.compile(loss=\"sparse_categorical_crossentropy\", optimizer=\"sgd\", metrics=[\"accuracy\"])\n",
    "print(model.summary())"
   ]
  },
  {
   "cell_type": "code",
   "execution_count": 31,
   "metadata": {
    "colab": {
     "base_uri": "https://localhost:8080/"
    },
    "executionInfo": {
     "elapsed": 725207,
     "status": "ok",
     "timestamp": 1604873342368,
     "user": {
      "displayName": "Noah Giansiracusa",
      "photoUrl": "https://lh3.googleusercontent.com/a-/AOh14GjWwcC1kJJ_Pz6uX7qs91yTWwo5k-DIR0nv0ZxV5g=s64",
      "userId": "12071500791083746324"
     },
     "user_tz": 300
    },
    "id": "utTdoIZTjdd5",
    "outputId": "1e81063e-cc96-47fc-baff-9127cb75b4ef"
   },
   "outputs": [
    {
     "name": "stdout",
     "output_type": "stream",
     "text": [
      "Epoch 1/20\n",
      "1688/1688 [==============================] - 36s 21ms/step - loss: 1.1968 - accuracy: 0.5535 - val_loss: 0.6652 - val_accuracy: 0.7317\n",
      "Epoch 2/20\n",
      "1688/1688 [==============================] - 37s 22ms/step - loss: 0.8051 - accuracy: 0.6941 - val_loss: 0.5939 - val_accuracy: 0.7853\n",
      "Epoch 3/20\n",
      "1688/1688 [==============================] - 36s 21ms/step - loss: 0.7140 - accuracy: 0.7315 - val_loss: 0.5321 - val_accuracy: 0.8072\n",
      "Epoch 4/20\n",
      "1688/1688 [==============================] - 35s 21ms/step - loss: 0.6636 - accuracy: 0.7499 - val_loss: 0.4874 - val_accuracy: 0.8198\n",
      "Epoch 5/20\n",
      "1688/1688 [==============================] - 35s 21ms/step - loss: 0.6272 - accuracy: 0.7638 - val_loss: 0.4696 - val_accuracy: 0.8202\n",
      "Epoch 6/20\n",
      "1688/1688 [==============================] - 35s 21ms/step - loss: 0.5988 - accuracy: 0.7748 - val_loss: 0.4498 - val_accuracy: 0.8272\n",
      "Epoch 7/20\n",
      "1688/1688 [==============================] - 36s 21ms/step - loss: 0.5766 - accuracy: 0.7854 - val_loss: 0.4418 - val_accuracy: 0.8318\n",
      "Epoch 8/20\n",
      "1688/1688 [==============================] - 35s 21ms/step - loss: 0.5467 - accuracy: 0.7995 - val_loss: 0.4174 - val_accuracy: 0.8413\n",
      "Epoch 9/20\n",
      "1688/1688 [==============================] - 39s 23ms/step - loss: 0.5265 - accuracy: 0.8085 - val_loss: 0.4028 - val_accuracy: 0.8488\n",
      "Epoch 10/20\n",
      "1688/1688 [==============================] - 35s 21ms/step - loss: 0.5107 - accuracy: 0.8131 - val_loss: 0.4037 - val_accuracy: 0.8482\n",
      "Epoch 11/20\n",
      "1688/1688 [==============================] - 36s 21ms/step - loss: 0.4903 - accuracy: 0.8204 - val_loss: 0.3759 - val_accuracy: 0.8560\n",
      "Epoch 12/20\n",
      "1688/1688 [==============================] - 36s 22ms/step - loss: 0.4796 - accuracy: 0.8243 - val_loss: 0.3821 - val_accuracy: 0.8537\n",
      "Epoch 13/20\n",
      "1688/1688 [==============================] - 37s 22ms/step - loss: 0.4662 - accuracy: 0.8300 - val_loss: 0.3592 - val_accuracy: 0.8673\n",
      "Epoch 14/20\n",
      "1688/1688 [==============================] - 37s 22ms/step - loss: 0.4557 - accuracy: 0.8345 - val_loss: 0.3570 - val_accuracy: 0.8637\n",
      "Epoch 15/20\n",
      "1688/1688 [==============================] - 37s 22ms/step - loss: 0.4452 - accuracy: 0.8371 - val_loss: 0.3480 - val_accuracy: 0.8723\n",
      "Epoch 16/20\n",
      "1688/1688 [==============================] - 38s 23ms/step - loss: 0.4361 - accuracy: 0.8398 - val_loss: 0.3485 - val_accuracy: 0.8722\n",
      "Epoch 17/20\n",
      "1688/1688 [==============================] - 36s 21ms/step - loss: 0.4301 - accuracy: 0.8438 - val_loss: 0.3330 - val_accuracy: 0.8787\n",
      "Epoch 18/20\n",
      "1688/1688 [==============================] - 35s 21ms/step - loss: 0.4187 - accuracy: 0.8461 - val_loss: 0.3199 - val_accuracy: 0.8788\n",
      "Epoch 19/20\n",
      "1688/1688 [==============================] - 36s 21ms/step - loss: 0.4162 - accuracy: 0.8513 - val_loss: 0.3165 - val_accuracy: 0.8797\n",
      "Epoch 20/20\n",
      "1688/1688 [==============================] - 36s 21ms/step - loss: 0.4054 - accuracy: 0.8536 - val_loss: 0.3202 - val_accuracy: 0.8820\n"
     ]
    }
   ],
   "source": [
    "history = model.fit(X_train, y_train, epochs=20, validation_split=0.1)"
   ]
  },
  {
   "cell_type": "code",
   "execution_count": 32,
   "metadata": {
    "colab": {
     "base_uri": "https://localhost:8080/",
     "height": 337
    },
    "executionInfo": {
     "elapsed": 916,
     "status": "ok",
     "timestamp": 1604873428526,
     "user": {
      "displayName": "Noah Giansiracusa",
      "photoUrl": "https://lh3.googleusercontent.com/a-/AOh14GjWwcC1kJJ_Pz6uX7qs91yTWwo5k-DIR0nv0ZxV5g=s64",
      "userId": "12071500791083746324"
     },
     "user_tz": 300
    },
    "id": "8kCkMuevj3q-",
    "outputId": "3a9f1401-7af3-456b-f535-702fea60af24"
   },
   "outputs": [
    {
     "data": {
      "text/plain": [
       "<matplotlib.axes._subplots.AxesSubplot at 0x7f82e76c89b0>"
      ]
     },
     "execution_count": 32,
     "metadata": {
      "tags": []
     },
     "output_type": "execute_result"
    },
    {
     "data": {
      "image/png": "[encoded data removed]",
      "text/plain": [
       "<Figure size 576x360 with 1 Axes>"
      ]
     },
     "metadata": {
      "needs_background": "light",
      "tags": []
     },
     "output_type": "display_data"
    }
   ],
   "source": [
    "import numpy as np\n",
    "import pandas as pd\n",
    "import matplotlib.pyplot as plt\n",
    "pd.DataFrame(history.history).plot(figsize=(8, 5))"
   ]
  },
  {
   "cell_type": "code",
   "execution_count": 33,
   "metadata": {
    "colab": {
     "base_uri": "https://localhost:8080/"
    },
    "executionInfo": {
     "elapsed": 3180,
     "status": "ok",
     "timestamp": 1604873436765,
     "user": {
      "displayName": "Noah Giansiracusa",
      "photoUrl": "https://lh3.googleusercontent.com/a-/AOh14GjWwcC1kJJ_Pz6uX7qs91yTWwo5k-DIR0nv0ZxV5g=s64",
      "userId": "12071500791083746324"
     },
     "user_tz": 300
    },
    "id": "cbF__K0PkU6S",
    "outputId": "cd3e5c67-5b02-4ada-95b3-04aa7df43974"
   },
   "outputs": [
    {
     "name": "stdout",
     "output_type": "stream",
     "text": [
      "313/313 [==============================] - 3s 9ms/step - loss: 0.3365 - accuracy: 0.8790\n"
     ]
    },
    {
     "data": {
      "text/plain": [
       "[0.3364914655685425, 0.8790000081062317]"
      ]
     },
     "execution_count": 33,
     "metadata": {
      "tags": []
     },
     "output_type": "execute_result"
    }
   ],
   "source": [
    "model.evaluate(X_test, y_test)"
   ]
  }
 ],
 "metadata": {
  "colab": {
   "authorship_tag": "ABX9TyOCcdQpeBZQPmOjIRPKuF7a",
   "collapsed_sections": [],
   "name": "fashion-CNN.ipynb",
   "provenance": []
  },
  "kernelspec": {
   "display_name": "Python 3",
   "language": "python",
   "name": "python3"
  },
  "language_info": {
   "codemirror_mode": {
    "name": "ipython",
    "version": 3
   },
   "file_extension": ".py",
   "mimetype": "text/x-python",
   "name": "python",
   "nbconvert_exporter": "python",
   "pygments_lexer": "ipython3",
   "version": "3.8.3"
  }
 },
 "nbformat": 4,
 "nbformat_minor": 4
}
